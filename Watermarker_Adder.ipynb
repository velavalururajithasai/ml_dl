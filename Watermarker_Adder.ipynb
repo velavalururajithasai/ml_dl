{
  "nbformat": 4,
  "nbformat_minor": 0,
  "metadata": {
    "colab": {
      "provenance": [],
      "authorship_tag": "ABX9TyMTHItXXHA8durbCuulZ5wZ",
      "include_colab_link": true
    },
    "kernelspec": {
      "name": "python3",
      "display_name": "Python 3"
    },
    "language_info": {
      "name": "python"
    }
  },
  "cells": [
    {
      "cell_type": "markdown",
      "metadata": {
        "id": "view-in-github",
        "colab_type": "text"
      },
      "source": [
        "<a href=\"https://colab.research.google.com/github/velavalururajithasai/ml_dl/blob/master/Watermarker_Adder.ipynb\" target=\"_parent\"><img src=\"https://colab.research.google.com/assets/colab-badge.svg\" alt=\"Open In Colab\"/></a>"
      ]
    },
    {
      "cell_type": "code",
      "source": [
        "from PIL import Image, ImageDraw, ImageFont\n",
        "\n",
        "def add_watermark(input_image_path, output_image_path, watermark_text):\n",
        "    try:\n",
        "        # Load the input image\n",
        "        image = Image.open(input_image_path)\n",
        "\n",
        "        # Create a drawing context for the image\n",
        "        draw = ImageDraw.Draw(image)\n",
        "\n",
        "        # Choose a font and size for the watermark\n",
        "        font = ImageFont.truetype(\"/content/sample_data/Raleway-Italic-VariableFont_wght.ttf\", 40)  # Replace \"arial.ttf\" with the path to your preferred font\n",
        "\n",
        "        # Calculate the position to place the watermark (centered)\n",
        "        text_width, text_height = draw.textsize(watermark_text, font)\n",
        "        image_width, image_height = image.size\n",
        "        x = (image_width - text_width) // 2\n",
        "        y = (image_height - text_height) // 2\n",
        "\n",
        "        # Define the color of the watermark text (in RGB format)\n",
        "        watermark_color = (255, 255, 255)  # White\n",
        "\n",
        "        # Add the watermark to the image\n",
        "        draw.text((x, y), watermark_text, font=font, fill=watermark_color)\n",
        "\n",
        "        # Save the image with the watermark\n",
        "        image.save(output_image_path)\n",
        "        print(\"Watermark added successfully.\")\n",
        "\n",
        "    except Exception as e:\n",
        "        print(\"Error: \", e)\n",
        "\n",
        "# Example usage\n",
        "input_image_path = \"/content/sample_data/IMG_20200812_121604.jpg\"\n",
        "output_image_path = \"/content/IMG_20201107_210906.jpg\"\n",
        "watermark_text = \"Radha Krishna\"\n",
        "\n",
        "add_watermark(input_image_path, output_image_path, watermark_text)"
      ],
      "metadata": {
        "colab": {
          "base_uri": "https://localhost:8080/"
        },
        "id": "-9jJp6TN4M_6",
        "outputId": "625aacdf-536b-4f2c-d458-cace0a079c53"
      },
      "execution_count": 6,
      "outputs": [
        {
          "output_type": "stream",
          "name": "stdout",
          "text": [
            "Watermark added successfully.\n"
          ]
        }
      ]
    }
  ]
}