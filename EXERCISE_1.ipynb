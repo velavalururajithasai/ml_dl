{
  "nbformat": 4,
  "nbformat_minor": 0,
  "metadata": {
    "colab": {
      "provenance": [],
      "authorship_tag": "ABX9TyPcZFvJMDBiabXGHEjYEf8z",
      "include_colab_link": true
    },
    "kernelspec": {
      "name": "python3",
      "display_name": "Python 3"
    },
    "language_info": {
      "name": "python"
    }
  },
  "cells": [
    {
      "cell_type": "markdown",
      "metadata": {
        "id": "view-in-github",
        "colab_type": "text"
      },
      "source": [
        "<a href=\"https://colab.research.google.com/github/velavalururajithasai/ml_dl/blob/master/EXERCISE_1.ipynb\" target=\"_parent\"><img src=\"https://colab.research.google.com/assets/colab-badge.svg\" alt=\"Open In Colab\"/></a>"
      ]
    },
    {
      "cell_type": "code",
      "source": [
        "#Understand the data using python commands\n",
        "import numpy as np\n",
        "import pandas as pd\n",
        "df=pd.read_csv(\"/content/sample_data/diabetes.csv\")\n",
        "print(df)"
      ],
      "metadata": {
        "colab": {
          "base_uri": "https://localhost:8080/"
        },
        "id": "A_0svF5bGyv6",
        "outputId": "ec1f0ca8-603e-40e4-b814-fdc9c6699306"
      },
      "execution_count": 3,
      "outputs": [
        {
          "output_type": "stream",
          "name": "stdout",
          "text": [
            "      Age  Gender  Glucose  BloodPressure  SkinThickness  Insulin   BMI  \\\n",
            "0    50.0    Male      148             72             35        0  33.6   \n",
            "1    31.0    Male       85             66             29        0  26.6   \n",
            "2    32.0    Male      183             64              0        0  23.3   \n",
            "3    21.0    Male       89             66             23       94  28.1   \n",
            "4    33.0    Male      137             40             35      168  43.1   \n",
            "..    ...     ...      ...            ...            ...      ...   ...   \n",
            "763  63.0    Male      101             76             48      180  32.9   \n",
            "764  27.0    Male      122             70             27        0  36.8   \n",
            "765  30.0  Female      121             72             23      112  26.2   \n",
            "766  47.0  Female      126             60              0        0  30.1   \n",
            "767  23.0  Female       93             70             31        0  30.4   \n",
            "\n",
            "     DiabetesPedigreeFunction  Outcome  \n",
            "0                       0.627        1  \n",
            "1                       0.351        0  \n",
            "2                       0.672        1  \n",
            "3                       0.167        0  \n",
            "4                       2.288        1  \n",
            "..                        ...      ...  \n",
            "763                     0.171        0  \n",
            "764                     0.340        0  \n",
            "765                     0.245        0  \n",
            "766                     0.349        1  \n",
            "767                     0.315        0  \n",
            "\n",
            "[768 rows x 9 columns]\n"
          ]
        }
      ]
    },
    {
      "cell_type": "code",
      "source": [
        "df.head()"
      ],
      "metadata": {
        "colab": {
          "base_uri": "https://localhost:8080/",
          "height": 206
        },
        "id": "w-3xIq8tHBXz",
        "outputId": "85ba3d8d-1286-4719-93c8-81871dc08f50"
      },
      "execution_count": 4,
      "outputs": [
        {
          "output_type": "execute_result",
          "data": {
            "text/plain": [
              "    Age Gender  Glucose  BloodPressure  SkinThickness  Insulin   BMI  \\\n",
              "0  50.0   Male      148             72             35        0  33.6   \n",
              "1  31.0   Male       85             66             29        0  26.6   \n",
              "2  32.0   Male      183             64              0        0  23.3   \n",
              "3  21.0   Male       89             66             23       94  28.1   \n",
              "4  33.0   Male      137             40             35      168  43.1   \n",
              "\n",
              "   DiabetesPedigreeFunction  Outcome  \n",
              "0                     0.627        1  \n",
              "1                     0.351        0  \n",
              "2                     0.672        1  \n",
              "3                     0.167        0  \n",
              "4                     2.288        1  "
            ],
            "text/html": [
              "\n",
              "  <div id=\"df-e44648e5-6446-41a2-b6c8-8ebc4763a756\">\n",
              "    <div class=\"colab-df-container\">\n",
              "      <div>\n",
              "<style scoped>\n",
              "    .dataframe tbody tr th:only-of-type {\n",
              "        vertical-align: middle;\n",
              "    }\n",
              "\n",
              "    .dataframe tbody tr th {\n",
              "        vertical-align: top;\n",
              "    }\n",
              "\n",
              "    .dataframe thead th {\n",
              "        text-align: right;\n",
              "    }\n",
              "</style>\n",
              "<table border=\"1\" class=\"dataframe\">\n",
              "  <thead>\n",
              "    <tr style=\"text-align: right;\">\n",
              "      <th></th>\n",
              "      <th>Age</th>\n",
              "      <th>Gender</th>\n",
              "      <th>Glucose</th>\n",
              "      <th>BloodPressure</th>\n",
              "      <th>SkinThickness</th>\n",
              "      <th>Insulin</th>\n",
              "      <th>BMI</th>\n",
              "      <th>DiabetesPedigreeFunction</th>\n",
              "      <th>Outcome</th>\n",
              "    </tr>\n",
              "  </thead>\n",
              "  <tbody>\n",
              "    <tr>\n",
              "      <th>0</th>\n",
              "      <td>50.0</td>\n",
              "      <td>Male</td>\n",
              "      <td>148</td>\n",
              "      <td>72</td>\n",
              "      <td>35</td>\n",
              "      <td>0</td>\n",
              "      <td>33.6</td>\n",
              "      <td>0.627</td>\n",
              "      <td>1</td>\n",
              "    </tr>\n",
              "    <tr>\n",
              "      <th>1</th>\n",
              "      <td>31.0</td>\n",
              "      <td>Male</td>\n",
              "      <td>85</td>\n",
              "      <td>66</td>\n",
              "      <td>29</td>\n",
              "      <td>0</td>\n",
              "      <td>26.6</td>\n",
              "      <td>0.351</td>\n",
              "      <td>0</td>\n",
              "    </tr>\n",
              "    <tr>\n",
              "      <th>2</th>\n",
              "      <td>32.0</td>\n",
              "      <td>Male</td>\n",
              "      <td>183</td>\n",
              "      <td>64</td>\n",
              "      <td>0</td>\n",
              "      <td>0</td>\n",
              "      <td>23.3</td>\n",
              "      <td>0.672</td>\n",
              "      <td>1</td>\n",
              "    </tr>\n",
              "    <tr>\n",
              "      <th>3</th>\n",
              "      <td>21.0</td>\n",
              "      <td>Male</td>\n",
              "      <td>89</td>\n",
              "      <td>66</td>\n",
              "      <td>23</td>\n",
              "      <td>94</td>\n",
              "      <td>28.1</td>\n",
              "      <td>0.167</td>\n",
              "      <td>0</td>\n",
              "    </tr>\n",
              "    <tr>\n",
              "      <th>4</th>\n",
              "      <td>33.0</td>\n",
              "      <td>Male</td>\n",
              "      <td>137</td>\n",
              "      <td>40</td>\n",
              "      <td>35</td>\n",
              "      <td>168</td>\n",
              "      <td>43.1</td>\n",
              "      <td>2.288</td>\n",
              "      <td>1</td>\n",
              "    </tr>\n",
              "  </tbody>\n",
              "</table>\n",
              "</div>\n",
              "      <button class=\"colab-df-convert\" onclick=\"convertToInteractive('df-e44648e5-6446-41a2-b6c8-8ebc4763a756')\"\n",
              "              title=\"Convert this dataframe to an interactive table.\"\n",
              "              style=\"display:none;\">\n",
              "        \n",
              "  <svg xmlns=\"http://www.w3.org/2000/svg\" height=\"24px\"viewBox=\"0 0 24 24\"\n",
              "       width=\"24px\">\n",
              "    <path d=\"M0 0h24v24H0V0z\" fill=\"none\"/>\n",
              "    <path d=\"M18.56 5.44l.94 2.06.94-2.06 2.06-.94-2.06-.94-.94-2.06-.94 2.06-2.06.94zm-11 1L8.5 8.5l.94-2.06 2.06-.94-2.06-.94L8.5 2.5l-.94 2.06-2.06.94zm10 10l.94 2.06.94-2.06 2.06-.94-2.06-.94-.94-2.06-.94 2.06-2.06.94z\"/><path d=\"M17.41 7.96l-1.37-1.37c-.4-.4-.92-.59-1.43-.59-.52 0-1.04.2-1.43.59L10.3 9.45l-7.72 7.72c-.78.78-.78 2.05 0 2.83L4 21.41c.39.39.9.59 1.41.59.51 0 1.02-.2 1.41-.59l7.78-7.78 2.81-2.81c.8-.78.8-2.07 0-2.86zM5.41 20L4 18.59l7.72-7.72 1.47 1.35L5.41 20z\"/>\n",
              "  </svg>\n",
              "      </button>\n",
              "      \n",
              "  <style>\n",
              "    .colab-df-container {\n",
              "      display:flex;\n",
              "      flex-wrap:wrap;\n",
              "      gap: 12px;\n",
              "    }\n",
              "\n",
              "    .colab-df-convert {\n",
              "      background-color: #E8F0FE;\n",
              "      border: none;\n",
              "      border-radius: 50%;\n",
              "      cursor: pointer;\n",
              "      display: none;\n",
              "      fill: #1967D2;\n",
              "      height: 32px;\n",
              "      padding: 0 0 0 0;\n",
              "      width: 32px;\n",
              "    }\n",
              "\n",
              "    .colab-df-convert:hover {\n",
              "      background-color: #E2EBFA;\n",
              "      box-shadow: 0px 1px 2px rgba(60, 64, 67, 0.3), 0px 1px 3px 1px rgba(60, 64, 67, 0.15);\n",
              "      fill: #174EA6;\n",
              "    }\n",
              "\n",
              "    [theme=dark] .colab-df-convert {\n",
              "      background-color: #3B4455;\n",
              "      fill: #D2E3FC;\n",
              "    }\n",
              "\n",
              "    [theme=dark] .colab-df-convert:hover {\n",
              "      background-color: #434B5C;\n",
              "      box-shadow: 0px 1px 3px 1px rgba(0, 0, 0, 0.15);\n",
              "      filter: drop-shadow(0px 1px 2px rgba(0, 0, 0, 0.3));\n",
              "      fill: #FFFFFF;\n",
              "    }\n",
              "  </style>\n",
              "\n",
              "      <script>\n",
              "        const buttonEl =\n",
              "          document.querySelector('#df-e44648e5-6446-41a2-b6c8-8ebc4763a756 button.colab-df-convert');\n",
              "        buttonEl.style.display =\n",
              "          google.colab.kernel.accessAllowed ? 'block' : 'none';\n",
              "\n",
              "        async function convertToInteractive(key) {\n",
              "          const element = document.querySelector('#df-e44648e5-6446-41a2-b6c8-8ebc4763a756');\n",
              "          const dataTable =\n",
              "            await google.colab.kernel.invokeFunction('convertToInteractive',\n",
              "                                                     [key], {});\n",
              "          if (!dataTable) return;\n",
              "\n",
              "          const docLinkHtml = 'Like what you see? Visit the ' +\n",
              "            '<a target=\"_blank\" href=https://colab.research.google.com/notebooks/data_table.ipynb>data table notebook</a>'\n",
              "            + ' to learn more about interactive tables.';\n",
              "          element.innerHTML = '';\n",
              "          dataTable['output_type'] = 'display_data';\n",
              "          await google.colab.output.renderOutput(dataTable, element);\n",
              "          const docLink = document.createElement('div');\n",
              "          docLink.innerHTML = docLinkHtml;\n",
              "          element.appendChild(docLink);\n",
              "        }\n",
              "      </script>\n",
              "    </div>\n",
              "  </div>\n",
              "  "
            ]
          },
          "metadata": {},
          "execution_count": 4
        }
      ]
    },
    {
      "cell_type": "code",
      "source": [
        "df.tail()"
      ],
      "metadata": {
        "colab": {
          "base_uri": "https://localhost:8080/",
          "height": 206
        },
        "id": "-5avvyFWHGz8",
        "outputId": "07a0d36a-1c59-4bd2-8e4a-c0b35d02e7d7"
      },
      "execution_count": 5,
      "outputs": [
        {
          "output_type": "execute_result",
          "data": {
            "text/plain": [
              "      Age  Gender  Glucose  BloodPressure  SkinThickness  Insulin   BMI  \\\n",
              "763  63.0    Male      101             76             48      180  32.9   \n",
              "764  27.0    Male      122             70             27        0  36.8   \n",
              "765  30.0  Female      121             72             23      112  26.2   \n",
              "766  47.0  Female      126             60              0        0  30.1   \n",
              "767  23.0  Female       93             70             31        0  30.4   \n",
              "\n",
              "     DiabetesPedigreeFunction  Outcome  \n",
              "763                     0.171        0  \n",
              "764                     0.340        0  \n",
              "765                     0.245        0  \n",
              "766                     0.349        1  \n",
              "767                     0.315        0  "
            ],
            "text/html": [
              "\n",
              "  <div id=\"df-463c7a51-2940-4048-b8e1-fe9de545a91a\">\n",
              "    <div class=\"colab-df-container\">\n",
              "      <div>\n",
              "<style scoped>\n",
              "    .dataframe tbody tr th:only-of-type {\n",
              "        vertical-align: middle;\n",
              "    }\n",
              "\n",
              "    .dataframe tbody tr th {\n",
              "        vertical-align: top;\n",
              "    }\n",
              "\n",
              "    .dataframe thead th {\n",
              "        text-align: right;\n",
              "    }\n",
              "</style>\n",
              "<table border=\"1\" class=\"dataframe\">\n",
              "  <thead>\n",
              "    <tr style=\"text-align: right;\">\n",
              "      <th></th>\n",
              "      <th>Age</th>\n",
              "      <th>Gender</th>\n",
              "      <th>Glucose</th>\n",
              "      <th>BloodPressure</th>\n",
              "      <th>SkinThickness</th>\n",
              "      <th>Insulin</th>\n",
              "      <th>BMI</th>\n",
              "      <th>DiabetesPedigreeFunction</th>\n",
              "      <th>Outcome</th>\n",
              "    </tr>\n",
              "  </thead>\n",
              "  <tbody>\n",
              "    <tr>\n",
              "      <th>763</th>\n",
              "      <td>63.0</td>\n",
              "      <td>Male</td>\n",
              "      <td>101</td>\n",
              "      <td>76</td>\n",
              "      <td>48</td>\n",
              "      <td>180</td>\n",
              "      <td>32.9</td>\n",
              "      <td>0.171</td>\n",
              "      <td>0</td>\n",
              "    </tr>\n",
              "    <tr>\n",
              "      <th>764</th>\n",
              "      <td>27.0</td>\n",
              "      <td>Male</td>\n",
              "      <td>122</td>\n",
              "      <td>70</td>\n",
              "      <td>27</td>\n",
              "      <td>0</td>\n",
              "      <td>36.8</td>\n",
              "      <td>0.340</td>\n",
              "      <td>0</td>\n",
              "    </tr>\n",
              "    <tr>\n",
              "      <th>765</th>\n",
              "      <td>30.0</td>\n",
              "      <td>Female</td>\n",
              "      <td>121</td>\n",
              "      <td>72</td>\n",
              "      <td>23</td>\n",
              "      <td>112</td>\n",
              "      <td>26.2</td>\n",
              "      <td>0.245</td>\n",
              "      <td>0</td>\n",
              "    </tr>\n",
              "    <tr>\n",
              "      <th>766</th>\n",
              "      <td>47.0</td>\n",
              "      <td>Female</td>\n",
              "      <td>126</td>\n",
              "      <td>60</td>\n",
              "      <td>0</td>\n",
              "      <td>0</td>\n",
              "      <td>30.1</td>\n",
              "      <td>0.349</td>\n",
              "      <td>1</td>\n",
              "    </tr>\n",
              "    <tr>\n",
              "      <th>767</th>\n",
              "      <td>23.0</td>\n",
              "      <td>Female</td>\n",
              "      <td>93</td>\n",
              "      <td>70</td>\n",
              "      <td>31</td>\n",
              "      <td>0</td>\n",
              "      <td>30.4</td>\n",
              "      <td>0.315</td>\n",
              "      <td>0</td>\n",
              "    </tr>\n",
              "  </tbody>\n",
              "</table>\n",
              "</div>\n",
              "      <button class=\"colab-df-convert\" onclick=\"convertToInteractive('df-463c7a51-2940-4048-b8e1-fe9de545a91a')\"\n",
              "              title=\"Convert this dataframe to an interactive table.\"\n",
              "              style=\"display:none;\">\n",
              "        \n",
              "  <svg xmlns=\"http://www.w3.org/2000/svg\" height=\"24px\"viewBox=\"0 0 24 24\"\n",
              "       width=\"24px\">\n",
              "    <path d=\"M0 0h24v24H0V0z\" fill=\"none\"/>\n",
              "    <path d=\"M18.56 5.44l.94 2.06.94-2.06 2.06-.94-2.06-.94-.94-2.06-.94 2.06-2.06.94zm-11 1L8.5 8.5l.94-2.06 2.06-.94-2.06-.94L8.5 2.5l-.94 2.06-2.06.94zm10 10l.94 2.06.94-2.06 2.06-.94-2.06-.94-.94-2.06-.94 2.06-2.06.94z\"/><path d=\"M17.41 7.96l-1.37-1.37c-.4-.4-.92-.59-1.43-.59-.52 0-1.04.2-1.43.59L10.3 9.45l-7.72 7.72c-.78.78-.78 2.05 0 2.83L4 21.41c.39.39.9.59 1.41.59.51 0 1.02-.2 1.41-.59l7.78-7.78 2.81-2.81c.8-.78.8-2.07 0-2.86zM5.41 20L4 18.59l7.72-7.72 1.47 1.35L5.41 20z\"/>\n",
              "  </svg>\n",
              "      </button>\n",
              "      \n",
              "  <style>\n",
              "    .colab-df-container {\n",
              "      display:flex;\n",
              "      flex-wrap:wrap;\n",
              "      gap: 12px;\n",
              "    }\n",
              "\n",
              "    .colab-df-convert {\n",
              "      background-color: #E8F0FE;\n",
              "      border: none;\n",
              "      border-radius: 50%;\n",
              "      cursor: pointer;\n",
              "      display: none;\n",
              "      fill: #1967D2;\n",
              "      height: 32px;\n",
              "      padding: 0 0 0 0;\n",
              "      width: 32px;\n",
              "    }\n",
              "\n",
              "    .colab-df-convert:hover {\n",
              "      background-color: #E2EBFA;\n",
              "      box-shadow: 0px 1px 2px rgba(60, 64, 67, 0.3), 0px 1px 3px 1px rgba(60, 64, 67, 0.15);\n",
              "      fill: #174EA6;\n",
              "    }\n",
              "\n",
              "    [theme=dark] .colab-df-convert {\n",
              "      background-color: #3B4455;\n",
              "      fill: #D2E3FC;\n",
              "    }\n",
              "\n",
              "    [theme=dark] .colab-df-convert:hover {\n",
              "      background-color: #434B5C;\n",
              "      box-shadow: 0px 1px 3px 1px rgba(0, 0, 0, 0.15);\n",
              "      filter: drop-shadow(0px 1px 2px rgba(0, 0, 0, 0.3));\n",
              "      fill: #FFFFFF;\n",
              "    }\n",
              "  </style>\n",
              "\n",
              "      <script>\n",
              "        const buttonEl =\n",
              "          document.querySelector('#df-463c7a51-2940-4048-b8e1-fe9de545a91a button.colab-df-convert');\n",
              "        buttonEl.style.display =\n",
              "          google.colab.kernel.accessAllowed ? 'block' : 'none';\n",
              "\n",
              "        async function convertToInteractive(key) {\n",
              "          const element = document.querySelector('#df-463c7a51-2940-4048-b8e1-fe9de545a91a');\n",
              "          const dataTable =\n",
              "            await google.colab.kernel.invokeFunction('convertToInteractive',\n",
              "                                                     [key], {});\n",
              "          if (!dataTable) return;\n",
              "\n",
              "          const docLinkHtml = 'Like what you see? Visit the ' +\n",
              "            '<a target=\"_blank\" href=https://colab.research.google.com/notebooks/data_table.ipynb>data table notebook</a>'\n",
              "            + ' to learn more about interactive tables.';\n",
              "          element.innerHTML = '';\n",
              "          dataTable['output_type'] = 'display_data';\n",
              "          await google.colab.output.renderOutput(dataTable, element);\n",
              "          const docLink = document.createElement('div');\n",
              "          docLink.innerHTML = docLinkHtml;\n",
              "          element.appendChild(docLink);\n",
              "        }\n",
              "      </script>\n",
              "    </div>\n",
              "  </div>\n",
              "  "
            ]
          },
          "metadata": {},
          "execution_count": 5
        }
      ]
    },
    {
      "cell_type": "code",
      "source": [
        "df.size"
      ],
      "metadata": {
        "colab": {
          "base_uri": "https://localhost:8080/"
        },
        "id": "jvXjoPpgHJjj",
        "outputId": "115fe1a8-deb4-4361-aae3-f7ead9b045e5"
      },
      "execution_count": 6,
      "outputs": [
        {
          "output_type": "execute_result",
          "data": {
            "text/plain": [
              "6912"
            ]
          },
          "metadata": {},
          "execution_count": 6
        }
      ]
    },
    {
      "cell_type": "code",
      "source": [
        "df.count"
      ],
      "metadata": {
        "colab": {
          "base_uri": "https://localhost:8080/"
        },
        "id": "heC_yKbeHMxF",
        "outputId": "fe813715-e3f5-40e7-ff8f-342db35a45f6"
      },
      "execution_count": 7,
      "outputs": [
        {
          "output_type": "execute_result",
          "data": {
            "text/plain": [
              "<bound method DataFrame.count of       Age  Gender  Glucose  BloodPressure  SkinThickness  Insulin   BMI  \\\n",
              "0    50.0    Male      148             72             35        0  33.6   \n",
              "1    31.0    Male       85             66             29        0  26.6   \n",
              "2    32.0    Male      183             64              0        0  23.3   \n",
              "3    21.0    Male       89             66             23       94  28.1   \n",
              "4    33.0    Male      137             40             35      168  43.1   \n",
              "..    ...     ...      ...            ...            ...      ...   ...   \n",
              "763  63.0    Male      101             76             48      180  32.9   \n",
              "764  27.0    Male      122             70             27        0  36.8   \n",
              "765  30.0  Female      121             72             23      112  26.2   \n",
              "766  47.0  Female      126             60              0        0  30.1   \n",
              "767  23.0  Female       93             70             31        0  30.4   \n",
              "\n",
              "     DiabetesPedigreeFunction  Outcome  \n",
              "0                       0.627        1  \n",
              "1                       0.351        0  \n",
              "2                       0.672        1  \n",
              "3                       0.167        0  \n",
              "4                       2.288        1  \n",
              "..                        ...      ...  \n",
              "763                     0.171        0  \n",
              "764                     0.340        0  \n",
              "765                     0.245        0  \n",
              "766                     0.349        1  \n",
              "767                     0.315        0  \n",
              "\n",
              "[768 rows x 9 columns]>"
            ]
          },
          "metadata": {},
          "execution_count": 7
        }
      ]
    },
    {
      "cell_type": "code",
      "source": [
        "df.columns"
      ],
      "metadata": {
        "colab": {
          "base_uri": "https://localhost:8080/"
        },
        "id": "WfRXeX6iHPlX",
        "outputId": "b7d8789a-9b07-4a39-a9e9-71b96f40a889"
      },
      "execution_count": 8,
      "outputs": [
        {
          "output_type": "execute_result",
          "data": {
            "text/plain": [
              "Index(['Age', 'Gender', 'Glucose', 'BloodPressure', 'SkinThickness', 'Insulin',\n",
              "       'BMI', 'DiabetesPedigreeFunction', 'Outcome'],\n",
              "      dtype='object')"
            ]
          },
          "metadata": {},
          "execution_count": 8
        }
      ]
    },
    {
      "cell_type": "code",
      "source": [
        "df.info"
      ],
      "metadata": {
        "colab": {
          "base_uri": "https://localhost:8080/"
        },
        "id": "Y5sbriOSHSgB",
        "outputId": "172c48d9-530d-4415-e592-04bc7fa2bf4d"
      },
      "execution_count": 9,
      "outputs": [
        {
          "output_type": "execute_result",
          "data": {
            "text/plain": [
              "<bound method DataFrame.info of       Age  Gender  Glucose  BloodPressure  SkinThickness  Insulin   BMI  \\\n",
              "0    50.0    Male      148             72             35        0  33.6   \n",
              "1    31.0    Male       85             66             29        0  26.6   \n",
              "2    32.0    Male      183             64              0        0  23.3   \n",
              "3    21.0    Male       89             66             23       94  28.1   \n",
              "4    33.0    Male      137             40             35      168  43.1   \n",
              "..    ...     ...      ...            ...            ...      ...   ...   \n",
              "763  63.0    Male      101             76             48      180  32.9   \n",
              "764  27.0    Male      122             70             27        0  36.8   \n",
              "765  30.0  Female      121             72             23      112  26.2   \n",
              "766  47.0  Female      126             60              0        0  30.1   \n",
              "767  23.0  Female       93             70             31        0  30.4   \n",
              "\n",
              "     DiabetesPedigreeFunction  Outcome  \n",
              "0                       0.627        1  \n",
              "1                       0.351        0  \n",
              "2                       0.672        1  \n",
              "3                       0.167        0  \n",
              "4                       2.288        1  \n",
              "..                        ...      ...  \n",
              "763                     0.171        0  \n",
              "764                     0.340        0  \n",
              "765                     0.245        0  \n",
              "766                     0.349        1  \n",
              "767                     0.315        0  \n",
              "\n",
              "[768 rows x 9 columns]>"
            ]
          },
          "metadata": {},
          "execution_count": 9
        }
      ]
    },
    {
      "cell_type": "code",
      "source": [
        "df.drop"
      ],
      "metadata": {
        "colab": {
          "base_uri": "https://localhost:8080/"
        },
        "id": "HjW0HJyzHXhx",
        "outputId": "d6747ca3-9002-4523-9123-02682733da67"
      },
      "execution_count": 10,
      "outputs": [
        {
          "output_type": "execute_result",
          "data": {
            "text/plain": [
              "<bound method DataFrame.drop of       Age  Gender  Glucose  BloodPressure  SkinThickness  Insulin   BMI  \\\n",
              "0    50.0    Male      148             72             35        0  33.6   \n",
              "1    31.0    Male       85             66             29        0  26.6   \n",
              "2    32.0    Male      183             64              0        0  23.3   \n",
              "3    21.0    Male       89             66             23       94  28.1   \n",
              "4    33.0    Male      137             40             35      168  43.1   \n",
              "..    ...     ...      ...            ...            ...      ...   ...   \n",
              "763  63.0    Male      101             76             48      180  32.9   \n",
              "764  27.0    Male      122             70             27        0  36.8   \n",
              "765  30.0  Female      121             72             23      112  26.2   \n",
              "766  47.0  Female      126             60              0        0  30.1   \n",
              "767  23.0  Female       93             70             31        0  30.4   \n",
              "\n",
              "     DiabetesPedigreeFunction  Outcome  \n",
              "0                       0.627        1  \n",
              "1                       0.351        0  \n",
              "2                       0.672        1  \n",
              "3                       0.167        0  \n",
              "4                       2.288        1  \n",
              "..                        ...      ...  \n",
              "763                     0.171        0  \n",
              "764                     0.340        0  \n",
              "765                     0.245        0  \n",
              "766                     0.349        1  \n",
              "767                     0.315        0  \n",
              "\n",
              "[768 rows x 9 columns]>"
            ]
          },
          "metadata": {},
          "execution_count": 10
        }
      ]
    },
    {
      "cell_type": "code",
      "source": [
        "df.shape"
      ],
      "metadata": {
        "colab": {
          "base_uri": "https://localhost:8080/"
        },
        "id": "G8rsdXjKHcBU",
        "outputId": "a9408b1a-01b9-41c5-a570-a8892624013c"
      },
      "execution_count": 11,
      "outputs": [
        {
          "output_type": "execute_result",
          "data": {
            "text/plain": [
              "(768, 9)"
            ]
          },
          "metadata": {},
          "execution_count": 11
        }
      ]
    },
    {
      "cell_type": "code",
      "source": [
        "print(df.dtypes)"
      ],
      "metadata": {
        "colab": {
          "base_uri": "https://localhost:8080/"
        },
        "id": "Yj9-t2ZgHtqE",
        "outputId": "4540da7d-6ef9-4d63-bb08-207ecc32e1c0"
      },
      "execution_count": 12,
      "outputs": [
        {
          "output_type": "stream",
          "name": "stdout",
          "text": [
            "Age                         float64\n",
            "Gender                       object\n",
            "Glucose                       int64\n",
            "BloodPressure                 int64\n",
            "SkinThickness                 int64\n",
            "Insulin                       int64\n",
            "BMI                         float64\n",
            "DiabetesPedigreeFunction    float64\n",
            "Outcome                       int64\n",
            "dtype: object\n"
          ]
        }
      ]
    },
    {
      "cell_type": "code",
      "source": [
        "#Identify the columns with missing values\n",
        "df.isnull()"
      ],
      "metadata": {
        "colab": {
          "base_uri": "https://localhost:8080/",
          "height": 424
        },
        "id": "a3NHbrwYIABo",
        "outputId": "1e9a35ca-3a2e-4367-f4cc-1c10ea4fcb84"
      },
      "execution_count": 13,
      "outputs": [
        {
          "output_type": "execute_result",
          "data": {
            "text/plain": [
              "       Age  Gender  Glucose  BloodPressure  SkinThickness  Insulin    BMI  \\\n",
              "0    False   False    False          False          False    False  False   \n",
              "1    False   False    False          False          False    False  False   \n",
              "2    False   False    False          False          False    False  False   \n",
              "3    False   False    False          False          False    False  False   \n",
              "4    False   False    False          False          False    False  False   \n",
              "..     ...     ...      ...            ...            ...      ...    ...   \n",
              "763  False   False    False          False          False    False  False   \n",
              "764  False   False    False          False          False    False  False   \n",
              "765  False   False    False          False          False    False  False   \n",
              "766  False   False    False          False          False    False  False   \n",
              "767  False   False    False          False          False    False  False   \n",
              "\n",
              "     DiabetesPedigreeFunction  Outcome  \n",
              "0                       False    False  \n",
              "1                       False    False  \n",
              "2                       False    False  \n",
              "3                       False    False  \n",
              "4                       False    False  \n",
              "..                        ...      ...  \n",
              "763                     False    False  \n",
              "764                     False    False  \n",
              "765                     False    False  \n",
              "766                     False    False  \n",
              "767                     False    False  \n",
              "\n",
              "[768 rows x 9 columns]"
            ],
            "text/html": [
              "\n",
              "  <div id=\"df-f5024cb4-6b7e-40e7-bc27-3da98ea1cfc5\">\n",
              "    <div class=\"colab-df-container\">\n",
              "      <div>\n",
              "<style scoped>\n",
              "    .dataframe tbody tr th:only-of-type {\n",
              "        vertical-align: middle;\n",
              "    }\n",
              "\n",
              "    .dataframe tbody tr th {\n",
              "        vertical-align: top;\n",
              "    }\n",
              "\n",
              "    .dataframe thead th {\n",
              "        text-align: right;\n",
              "    }\n",
              "</style>\n",
              "<table border=\"1\" class=\"dataframe\">\n",
              "  <thead>\n",
              "    <tr style=\"text-align: right;\">\n",
              "      <th></th>\n",
              "      <th>Age</th>\n",
              "      <th>Gender</th>\n",
              "      <th>Glucose</th>\n",
              "      <th>BloodPressure</th>\n",
              "      <th>SkinThickness</th>\n",
              "      <th>Insulin</th>\n",
              "      <th>BMI</th>\n",
              "      <th>DiabetesPedigreeFunction</th>\n",
              "      <th>Outcome</th>\n",
              "    </tr>\n",
              "  </thead>\n",
              "  <tbody>\n",
              "    <tr>\n",
              "      <th>0</th>\n",
              "      <td>False</td>\n",
              "      <td>False</td>\n",
              "      <td>False</td>\n",
              "      <td>False</td>\n",
              "      <td>False</td>\n",
              "      <td>False</td>\n",
              "      <td>False</td>\n",
              "      <td>False</td>\n",
              "      <td>False</td>\n",
              "    </tr>\n",
              "    <tr>\n",
              "      <th>1</th>\n",
              "      <td>False</td>\n",
              "      <td>False</td>\n",
              "      <td>False</td>\n",
              "      <td>False</td>\n",
              "      <td>False</td>\n",
              "      <td>False</td>\n",
              "      <td>False</td>\n",
              "      <td>False</td>\n",
              "      <td>False</td>\n",
              "    </tr>\n",
              "    <tr>\n",
              "      <th>2</th>\n",
              "      <td>False</td>\n",
              "      <td>False</td>\n",
              "      <td>False</td>\n",
              "      <td>False</td>\n",
              "      <td>False</td>\n",
              "      <td>False</td>\n",
              "      <td>False</td>\n",
              "      <td>False</td>\n",
              "      <td>False</td>\n",
              "    </tr>\n",
              "    <tr>\n",
              "      <th>3</th>\n",
              "      <td>False</td>\n",
              "      <td>False</td>\n",
              "      <td>False</td>\n",
              "      <td>False</td>\n",
              "      <td>False</td>\n",
              "      <td>False</td>\n",
              "      <td>False</td>\n",
              "      <td>False</td>\n",
              "      <td>False</td>\n",
              "    </tr>\n",
              "    <tr>\n",
              "      <th>4</th>\n",
              "      <td>False</td>\n",
              "      <td>False</td>\n",
              "      <td>False</td>\n",
              "      <td>False</td>\n",
              "      <td>False</td>\n",
              "      <td>False</td>\n",
              "      <td>False</td>\n",
              "      <td>False</td>\n",
              "      <td>False</td>\n",
              "    </tr>\n",
              "    <tr>\n",
              "      <th>...</th>\n",
              "      <td>...</td>\n",
              "      <td>...</td>\n",
              "      <td>...</td>\n",
              "      <td>...</td>\n",
              "      <td>...</td>\n",
              "      <td>...</td>\n",
              "      <td>...</td>\n",
              "      <td>...</td>\n",
              "      <td>...</td>\n",
              "    </tr>\n",
              "    <tr>\n",
              "      <th>763</th>\n",
              "      <td>False</td>\n",
              "      <td>False</td>\n",
              "      <td>False</td>\n",
              "      <td>False</td>\n",
              "      <td>False</td>\n",
              "      <td>False</td>\n",
              "      <td>False</td>\n",
              "      <td>False</td>\n",
              "      <td>False</td>\n",
              "    </tr>\n",
              "    <tr>\n",
              "      <th>764</th>\n",
              "      <td>False</td>\n",
              "      <td>False</td>\n",
              "      <td>False</td>\n",
              "      <td>False</td>\n",
              "      <td>False</td>\n",
              "      <td>False</td>\n",
              "      <td>False</td>\n",
              "      <td>False</td>\n",
              "      <td>False</td>\n",
              "    </tr>\n",
              "    <tr>\n",
              "      <th>765</th>\n",
              "      <td>False</td>\n",
              "      <td>False</td>\n",
              "      <td>False</td>\n",
              "      <td>False</td>\n",
              "      <td>False</td>\n",
              "      <td>False</td>\n",
              "      <td>False</td>\n",
              "      <td>False</td>\n",
              "      <td>False</td>\n",
              "    </tr>\n",
              "    <tr>\n",
              "      <th>766</th>\n",
              "      <td>False</td>\n",
              "      <td>False</td>\n",
              "      <td>False</td>\n",
              "      <td>False</td>\n",
              "      <td>False</td>\n",
              "      <td>False</td>\n",
              "      <td>False</td>\n",
              "      <td>False</td>\n",
              "      <td>False</td>\n",
              "    </tr>\n",
              "    <tr>\n",
              "      <th>767</th>\n",
              "      <td>False</td>\n",
              "      <td>False</td>\n",
              "      <td>False</td>\n",
              "      <td>False</td>\n",
              "      <td>False</td>\n",
              "      <td>False</td>\n",
              "      <td>False</td>\n",
              "      <td>False</td>\n",
              "      <td>False</td>\n",
              "    </tr>\n",
              "  </tbody>\n",
              "</table>\n",
              "<p>768 rows × 9 columns</p>\n",
              "</div>\n",
              "      <button class=\"colab-df-convert\" onclick=\"convertToInteractive('df-f5024cb4-6b7e-40e7-bc27-3da98ea1cfc5')\"\n",
              "              title=\"Convert this dataframe to an interactive table.\"\n",
              "              style=\"display:none;\">\n",
              "        \n",
              "  <svg xmlns=\"http://www.w3.org/2000/svg\" height=\"24px\"viewBox=\"0 0 24 24\"\n",
              "       width=\"24px\">\n",
              "    <path d=\"M0 0h24v24H0V0z\" fill=\"none\"/>\n",
              "    <path d=\"M18.56 5.44l.94 2.06.94-2.06 2.06-.94-2.06-.94-.94-2.06-.94 2.06-2.06.94zm-11 1L8.5 8.5l.94-2.06 2.06-.94-2.06-.94L8.5 2.5l-.94 2.06-2.06.94zm10 10l.94 2.06.94-2.06 2.06-.94-2.06-.94-.94-2.06-.94 2.06-2.06.94z\"/><path d=\"M17.41 7.96l-1.37-1.37c-.4-.4-.92-.59-1.43-.59-.52 0-1.04.2-1.43.59L10.3 9.45l-7.72 7.72c-.78.78-.78 2.05 0 2.83L4 21.41c.39.39.9.59 1.41.59.51 0 1.02-.2 1.41-.59l7.78-7.78 2.81-2.81c.8-.78.8-2.07 0-2.86zM5.41 20L4 18.59l7.72-7.72 1.47 1.35L5.41 20z\"/>\n",
              "  </svg>\n",
              "      </button>\n",
              "      \n",
              "  <style>\n",
              "    .colab-df-container {\n",
              "      display:flex;\n",
              "      flex-wrap:wrap;\n",
              "      gap: 12px;\n",
              "    }\n",
              "\n",
              "    .colab-df-convert {\n",
              "      background-color: #E8F0FE;\n",
              "      border: none;\n",
              "      border-radius: 50%;\n",
              "      cursor: pointer;\n",
              "      display: none;\n",
              "      fill: #1967D2;\n",
              "      height: 32px;\n",
              "      padding: 0 0 0 0;\n",
              "      width: 32px;\n",
              "    }\n",
              "\n",
              "    .colab-df-convert:hover {\n",
              "      background-color: #E2EBFA;\n",
              "      box-shadow: 0px 1px 2px rgba(60, 64, 67, 0.3), 0px 1px 3px 1px rgba(60, 64, 67, 0.15);\n",
              "      fill: #174EA6;\n",
              "    }\n",
              "\n",
              "    [theme=dark] .colab-df-convert {\n",
              "      background-color: #3B4455;\n",
              "      fill: #D2E3FC;\n",
              "    }\n",
              "\n",
              "    [theme=dark] .colab-df-convert:hover {\n",
              "      background-color: #434B5C;\n",
              "      box-shadow: 0px 1px 3px 1px rgba(0, 0, 0, 0.15);\n",
              "      filter: drop-shadow(0px 1px 2px rgba(0, 0, 0, 0.3));\n",
              "      fill: #FFFFFF;\n",
              "    }\n",
              "  </style>\n",
              "\n",
              "      <script>\n",
              "        const buttonEl =\n",
              "          document.querySelector('#df-f5024cb4-6b7e-40e7-bc27-3da98ea1cfc5 button.colab-df-convert');\n",
              "        buttonEl.style.display =\n",
              "          google.colab.kernel.accessAllowed ? 'block' : 'none';\n",
              "\n",
              "        async function convertToInteractive(key) {\n",
              "          const element = document.querySelector('#df-f5024cb4-6b7e-40e7-bc27-3da98ea1cfc5');\n",
              "          const dataTable =\n",
              "            await google.colab.kernel.invokeFunction('convertToInteractive',\n",
              "                                                     [key], {});\n",
              "          if (!dataTable) return;\n",
              "\n",
              "          const docLinkHtml = 'Like what you see? Visit the ' +\n",
              "            '<a target=\"_blank\" href=https://colab.research.google.com/notebooks/data_table.ipynb>data table notebook</a>'\n",
              "            + ' to learn more about interactive tables.';\n",
              "          element.innerHTML = '';\n",
              "          dataTable['output_type'] = 'display_data';\n",
              "          await google.colab.output.renderOutput(dataTable, element);\n",
              "          const docLink = document.createElement('div');\n",
              "          docLink.innerHTML = docLinkHtml;\n",
              "          element.appendChild(docLink);\n",
              "        }\n",
              "      </script>\n",
              "    </div>\n",
              "  </div>\n",
              "  "
            ]
          },
          "metadata": {},
          "execution_count": 13
        }
      ]
    },
    {
      "cell_type": "code",
      "source": [
        "df.isnull().sum()"
      ],
      "metadata": {
        "colab": {
          "base_uri": "https://localhost:8080/"
        },
        "id": "tquyYO4cIZyk",
        "outputId": "09d5fe5b-0450-4c11-f32e-0ccec1624104"
      },
      "execution_count": 14,
      "outputs": [
        {
          "output_type": "execute_result",
          "data": {
            "text/plain": [
              "Age                         5\n",
              "Gender                      0\n",
              "Glucose                     0\n",
              "BloodPressure               0\n",
              "SkinThickness               0\n",
              "Insulin                     0\n",
              "BMI                         0\n",
              "DiabetesPedigreeFunction    0\n",
              "Outcome                     0\n",
              "dtype: int64"
            ]
          },
          "metadata": {},
          "execution_count": 14
        }
      ]
    },
    {
      "cell_type": "code",
      "source": [
        "#Fill the missing values using any one method\n",
        "column_name='Age'\n",
        "df[column_name]=df[column_name].fillna(df[column_name].mean())\n",
        "print(df)"
      ],
      "metadata": {
        "colab": {
          "base_uri": "https://localhost:8080/"
        },
        "id": "OrtDZxMyI0b9",
        "outputId": "b3a4d19d-f803-4a32-cc05-4ce2948dc565"
      },
      "execution_count": 15,
      "outputs": [
        {
          "output_type": "stream",
          "name": "stdout",
          "text": [
            "      Age  Gender  Glucose  BloodPressure  SkinThickness  Insulin   BMI  \\\n",
            "0    50.0    Male      148             72             35        0  33.6   \n",
            "1    31.0    Male       85             66             29        0  26.6   \n",
            "2    32.0    Male      183             64              0        0  23.3   \n",
            "3    21.0    Male       89             66             23       94  28.1   \n",
            "4    33.0    Male      137             40             35      168  43.1   \n",
            "..    ...     ...      ...            ...            ...      ...   ...   \n",
            "763  63.0    Male      101             76             48      180  32.9   \n",
            "764  27.0    Male      122             70             27        0  36.8   \n",
            "765  30.0  Female      121             72             23      112  26.2   \n",
            "766  47.0  Female      126             60              0        0  30.1   \n",
            "767  23.0  Female       93             70             31        0  30.4   \n",
            "\n",
            "     DiabetesPedigreeFunction  Outcome  \n",
            "0                       0.627        1  \n",
            "1                       0.351        0  \n",
            "2                       0.672        1  \n",
            "3                       0.167        0  \n",
            "4                       2.288        1  \n",
            "..                        ...      ...  \n",
            "763                     0.171        0  \n",
            "764                     0.340        0  \n",
            "765                     0.245        0  \n",
            "766                     0.349        1  \n",
            "767                     0.315        0  \n",
            "\n",
            "[768 rows x 9 columns]\n"
          ]
        }
      ]
    },
    {
      "cell_type": "code",
      "source": [
        "df.isnull().sum()"
      ],
      "metadata": {
        "colab": {
          "base_uri": "https://localhost:8080/"
        },
        "id": "bYySE1gWJyFA",
        "outputId": "10df7e53-abaa-4491-a93b-057032aacdcc"
      },
      "execution_count": 16,
      "outputs": [
        {
          "output_type": "execute_result",
          "data": {
            "text/plain": [
              "Age                         0\n",
              "Gender                      0\n",
              "Glucose                     0\n",
              "BloodPressure               0\n",
              "SkinThickness               0\n",
              "Insulin                     0\n",
              "BMI                         0\n",
              "DiabetesPedigreeFunction    0\n",
              "Outcome                     0\n",
              "dtype: int64"
            ]
          },
          "metadata": {},
          "execution_count": 16
        }
      ]
    },
    {
      "cell_type": "code",
      "source": [
        "column_name='Age'\n",
        "df[column_name]=df[column_name].fillna(df[column_name].min())\n",
        "print(df)"
      ],
      "metadata": {
        "colab": {
          "base_uri": "https://localhost:8080/"
        },
        "id": "uTmRX2XyJ2Ar",
        "outputId": "c2ac1a41-b765-4dc0-fe84-b70a55f377eb"
      },
      "execution_count": 17,
      "outputs": [
        {
          "output_type": "stream",
          "name": "stdout",
          "text": [
            "      Age  Gender  Glucose  BloodPressure  SkinThickness  Insulin   BMI  \\\n",
            "0    50.0    Male      148             72             35        0  33.6   \n",
            "1    31.0    Male       85             66             29        0  26.6   \n",
            "2    32.0    Male      183             64              0        0  23.3   \n",
            "3    21.0    Male       89             66             23       94  28.1   \n",
            "4    33.0    Male      137             40             35      168  43.1   \n",
            "..    ...     ...      ...            ...            ...      ...   ...   \n",
            "763  63.0    Male      101             76             48      180  32.9   \n",
            "764  27.0    Male      122             70             27        0  36.8   \n",
            "765  30.0  Female      121             72             23      112  26.2   \n",
            "766  47.0  Female      126             60              0        0  30.1   \n",
            "767  23.0  Female       93             70             31        0  30.4   \n",
            "\n",
            "     DiabetesPedigreeFunction  Outcome  \n",
            "0                       0.627        1  \n",
            "1                       0.351        0  \n",
            "2                       0.672        1  \n",
            "3                       0.167        0  \n",
            "4                       2.288        1  \n",
            "..                        ...      ...  \n",
            "763                     0.171        0  \n",
            "764                     0.340        0  \n",
            "765                     0.245        0  \n",
            "766                     0.349        1  \n",
            "767                     0.315        0  \n",
            "\n",
            "[768 rows x 9 columns]\n"
          ]
        }
      ]
    },
    {
      "cell_type": "code",
      "source": [
        "df.isnull().sum()"
      ],
      "metadata": {
        "colab": {
          "base_uri": "https://localhost:8080/"
        },
        "id": "ElLDVs-UKedr",
        "outputId": "47d405f3-0ef9-4892-fe68-dd4a246b71e0"
      },
      "execution_count": 19,
      "outputs": [
        {
          "output_type": "execute_result",
          "data": {
            "text/plain": [
              "Age                         0\n",
              "Gender                      0\n",
              "Glucose                     0\n",
              "BloodPressure               0\n",
              "SkinThickness               0\n",
              "Insulin                     0\n",
              "BMI                         0\n",
              "DiabetesPedigreeFunction    0\n",
              "Outcome                     0\n",
              "dtype: int64"
            ]
          },
          "metadata": {},
          "execution_count": 19
        }
      ]
    },
    {
      "cell_type": "code",
      "source": [
        "#Visualize the dataset using two appropriate plots\n",
        "import matplotlib.pyplot as plt\n",
        "plt.figure(figsize=(8,6))\n",
        "plt.hist(df['Glucose'],bins=10)\n",
        "plt.title('Diabetes')\n",
        "plt.xlabel('Levels')\n",
        "plt.ylabel('Range')\n",
        "plt.show()"
      ],
      "metadata": {
        "colab": {
          "base_uri": "https://localhost:8080/",
          "height": 564
        },
        "id": "3rWBXRPzLOks",
        "outputId": "9345dfbf-fda6-4734-b809-a8f3b3d34922"
      },
      "execution_count": 20,
      "outputs": [
        {
          "output_type": "display_data",
          "data": {
            "text/plain": [
              "<Figure size 800x600 with 1 Axes>"
            ],
            "image/png": "[encoded data removed]"
          },
          "metadata": {}
        }
      ]
    },
    {
      "cell_type": "code",
      "source": [
        "import matplotlib.pyplot as plt\n",
        "plt.figure(figsize=(8,6))\n",
        "plt.scatter(df['Glucose'],df['Age'])\n",
        "plt.title('Diabetes')\n",
        "plt.xlabel('Levels')\n",
        "plt.ylabel('Range')\n",
        "plt.show()"
      ],
      "metadata": {
        "colab": {
          "base_uri": "https://localhost:8080/",
          "height": 564
        },
        "id": "XPZofu7GNSQS",
        "outputId": "a86c9fbd-a1e7-4834-bf1b-ac1c402c9158"
      },
      "execution_count": 21,
      "outputs": [
        {
          "output_type": "display_data",
          "data": {
            "text/plain": [
              "<Figure size 800x600 with 1 Axes>"
            ],
            "image/png": "[encoded data removed]"
          },
          "metadata": {}
        }
      ]
    },
    {
      "cell_type": "code",
      "source": [
        "import matplotlib.pyplot as plt\n",
        "plt.figure(figsize=(8,6))\n",
        "plt.boxplot(df['Glucose'])\n",
        "plt.title('Diabetes')\n",
        "plt.ylabel('Range')\n",
        "plt.show()"
      ],
      "metadata": {
        "colab": {
          "base_uri": "https://localhost:8080/",
          "height": 545
        },
        "id": "i_2NunxwNoAq",
        "outputId": "6459c6b9-3e68-46cf-e604-35d5b5b2fedb"
      },
      "execution_count": 22,
      "outputs": [
        {
          "output_type": "display_data",
          "data": {
            "text/plain": [
              "<Figure size 800x600 with 1 Axes>"
            ],
            "image/png": "[encoded data removed]"
          },
          "metadata": {}
        }
      ]
    },
    {
      "cell_type": "code",
      "source": [
        "#Use any 2 out of 3 normalization methods to normalize two columns in the given data\n",
        "from sklearn.preprocessing import MinMaxScaler,StandardScaler\n",
        "columns_to_normalize=[\"Glucose\",\"SkinThickness\"]\n",
        "min_max_scaler=MinMaxScaler()\n",
        "df_min_max=df.copy()\n",
        "df_min_max[columns_to_normalize]=min_max_scaler.fit_transform(df[columns_to_normalize])\n",
        "print(\"Min_Max_Scaling:\")\n",
        "print(df_min_max[columns_to_normalize].head())"
      ],
      "metadata": {
        "colab": {
          "base_uri": "https://localhost:8080/"
        },
        "id": "Pt57DlhvOVs6",
        "outputId": "dd388356-403d-4475-a3e2-75b49086dcb2"
      },
      "execution_count": 24,
      "outputs": [
        {
          "output_type": "stream",
          "name": "stdout",
          "text": [
            "Min_Max_Scaling:\n",
            "    Glucose  SkinThickness\n",
            "0  0.743719       0.353535\n",
            "1  0.427136       0.292929\n",
            "2  0.919598       0.000000\n",
            "3  0.447236       0.232323\n",
            "4  0.688442       0.353535\n"
          ]
        }
      ]
    },
    {
      "cell_type": "code",
      "source": [
        "z_score_scaler=StandardScaler()\n",
        "df_z_score=df.copy()\n",
        "df_z_score[columns_to_normalize]=z_score_scaler.fit_transform(df[columns_to_normalize])\n",
        "print(\"Z_score_Scaling:\")\n",
        "print(df_z_score[columns_to_normalize].head())"
      ],
      "metadata": {
        "colab": {
          "base_uri": "https://localhost:8080/"
        },
        "id": "XLLm0JqYXHWL",
        "outputId": "c684ad1e-75c7-49ee-c224-30a99b787908"
      },
      "execution_count": 25,
      "outputs": [
        {
          "output_type": "stream",
          "name": "stdout",
          "text": [
            "Z_score_Scaling:\n",
            "    Glucose  SkinThickness\n",
            "0  0.848324       0.907270\n",
            "1 -1.123396       0.530902\n",
            "2  1.943724      -1.288212\n",
            "3 -0.998208       0.154533\n",
            "4  0.504055       0.907270\n"
          ]
        }
      ]
    },
    {
      "cell_type": "code",
      "source": [
        "#Use any 2 out of 5 encoding methods to encode the data\n",
        "from sklearn.preprocessing import LabelEncoder\n",
        "df_one_hot=pd.get_dummies(df)\n",
        "print(\"One-Hot Encoding:\")\n",
        "print(df_one_hot.head())"
      ],
      "metadata": {
        "colab": {
          "base_uri": "https://localhost:8080/"
        },
        "id": "c9ZriaMfX2xu",
        "outputId": "31aa9660-c3b6-4c2d-d022-1d4616c484e9"
      },
      "execution_count": 26,
      "outputs": [
        {
          "output_type": "stream",
          "name": "stdout",
          "text": [
            "One-Hot Encoding:\n",
            "    Age  Glucose  BloodPressure  SkinThickness  Insulin   BMI  \\\n",
            "0  50.0      148             72             35        0  33.6   \n",
            "1  31.0       85             66             29        0  26.6   \n",
            "2  32.0      183             64              0        0  23.3   \n",
            "3  21.0       89             66             23       94  28.1   \n",
            "4  33.0      137             40             35      168  43.1   \n",
            "\n",
            "   DiabetesPedigreeFunction  Outcome  Gender_Female  Gender_Male  \n",
            "0                     0.627        1              0            1  \n",
            "1                     0.351        0              0            1  \n",
            "2                     0.672        1              0            1  \n",
            "3                     0.167        0              0            1  \n",
            "4                     2.288        1              0            1  \n"
          ]
        }
      ]
    },
    {
      "cell_type": "code",
      "source": [
        "df_label=df.copy()\n",
        "label_encoder=LabelEncoder()\n",
        "for column in df_label.columns:\n",
        "  df_label[column]=label_encoder.fit_transform(df_label[column])\n",
        "  print(\"Label Encoding\")\n",
        "  print(df_label.head())"
      ],
      "metadata": {
        "colab": {
          "base_uri": "https://localhost:8080/"
        },
        "id": "AVCBmB3DZKnF",
        "outputId": "8f895694-9dae-4eb5-90b1-9fd38554efc8"
      },
      "execution_count": 27,
      "outputs": [
        {
          "output_type": "stream",
          "name": "stdout",
          "text": [
            "Label Encoding\n",
            "   Age Gender  Glucose  BloodPressure  SkinThickness  Insulin   BMI  \\\n",
            "0   30   Male      148             72             35        0  33.6   \n",
            "1   10   Male       85             66             29        0  26.6   \n",
            "2   11   Male      183             64              0        0  23.3   \n",
            "3    0   Male       89             66             23       94  28.1   \n",
            "4   12   Male      137             40             35      168  43.1   \n",
            "\n",
            "   DiabetesPedigreeFunction  Outcome  \n",
            "0                     0.627        1  \n",
            "1                     0.351        0  \n",
            "2                     0.672        1  \n",
            "3                     0.167        0  \n",
            "4                     2.288        1  \n",
            "Label Encoding\n",
            "   Age  Gender  Glucose  BloodPressure  SkinThickness  Insulin   BMI  \\\n",
            "0   30       1      148             72             35        0  33.6   \n",
            "1   10       1       85             66             29        0  26.6   \n",
            "2   11       1      183             64              0        0  23.3   \n",
            "3    0       1       89             66             23       94  28.1   \n",
            "4   12       1      137             40             35      168  43.1   \n",
            "\n",
            "   DiabetesPedigreeFunction  Outcome  \n",
            "0                     0.627        1  \n",
            "1                     0.351        0  \n",
            "2                     0.672        1  \n",
            "3                     0.167        0  \n",
            "4                     2.288        1  \n",
            "Label Encoding\n",
            "   Age  Gender  Glucose  BloodPressure  SkinThickness  Insulin   BMI  \\\n",
            "0   30       1       86             72             35        0  33.6   \n",
            "1   10       1       23             66             29        0  26.6   \n",
            "2   11       1      121             64              0        0  23.3   \n",
            "3    0       1       27             66             23       94  28.1   \n",
            "4   12       1       75             40             35      168  43.1   \n",
            "\n",
            "   DiabetesPedigreeFunction  Outcome  \n",
            "0                     0.627        1  \n",
            "1                     0.351        0  \n",
            "2                     0.672        1  \n",
            "3                     0.167        0  \n",
            "4                     2.288        1  \n",
            "Label Encoding\n",
            "   Age  Gender  Glucose  BloodPressure  SkinThickness  Insulin   BMI  \\\n",
            "0   30       1       86             22             35        0  33.6   \n",
            "1   10       1       23             19             29        0  26.6   \n",
            "2   11       1      121             17              0        0  23.3   \n",
            "3    0       1       27             19             23       94  28.1   \n",
            "4   12       1       75              4             35      168  43.1   \n",
            "\n",
            "   DiabetesPedigreeFunction  Outcome  \n",
            "0                     0.627        1  \n",
            "1                     0.351        0  \n",
            "2                     0.672        1  \n",
            "3                     0.167        0  \n",
            "4                     2.288        1  \n",
            "Label Encoding\n",
            "   Age  Gender  Glucose  BloodPressure  SkinThickness  Insulin   BMI  \\\n",
            "0   30       1       86             22             28        0  33.6   \n",
            "1   10       1       23             19             22        0  26.6   \n",
            "2   11       1      121             17              0        0  23.3   \n",
            "3    0       1       27             19             16       94  28.1   \n",
            "4   12       1       75              4             28      168  43.1   \n",
            "\n",
            "   DiabetesPedigreeFunction  Outcome  \n",
            "0                     0.627        1  \n",
            "1                     0.351        0  \n",
            "2                     0.672        1  \n",
            "3                     0.167        0  \n",
            "4                     2.288        1  \n",
            "Label Encoding\n",
            "   Age  Gender  Glucose  BloodPressure  SkinThickness  Insulin   BMI  \\\n",
            "0   30       1       86             22             28        0  33.6   \n",
            "1   10       1       23             19             22        0  26.6   \n",
            "2   11       1      121             17              0        0  23.3   \n",
            "3    0       1       27             19             16       62  28.1   \n",
            "4   12       1       75              4             28      102  43.1   \n",
            "\n",
            "   DiabetesPedigreeFunction  Outcome  \n",
            "0                     0.627        1  \n",
            "1                     0.351        0  \n",
            "2                     0.672        1  \n",
            "3                     0.167        0  \n",
            "4                     2.288        1  \n",
            "Label Encoding\n",
            "   Age  Gender  Glucose  BloodPressure  SkinThickness  Insulin  BMI  \\\n",
            "0   30       1       86             22             28        0  123   \n",
            "1   10       1       23             19             22        0   62   \n",
            "2   11       1      121             17              0        0   30   \n",
            "3    0       1       27             19             16       62   77   \n",
            "4   12       1       75              4             28      102  209   \n",
            "\n",
            "   DiabetesPedigreeFunction  Outcome  \n",
            "0                     0.627        1  \n",
            "1                     0.351        0  \n",
            "2                     0.672        1  \n",
            "3                     0.167        0  \n",
            "4                     2.288        1  \n",
            "Label Encoding\n",
            "   Age  Gender  Glucose  BloodPressure  SkinThickness  Insulin  BMI  \\\n",
            "0   30       1       86             22             28        0  123   \n",
            "1   10       1       23             19             22        0   62   \n",
            "2   11       1      121             17              0        0   30   \n",
            "3    0       1       27             19             16       62   77   \n",
            "4   12       1       75              4             28      102  209   \n",
            "\n",
            "   DiabetesPedigreeFunction  Outcome  \n",
            "0                       350        1  \n",
            "1                       196        0  \n",
            "2                       368        1  \n",
            "3                        53        0  \n",
            "4                       514        1  \n",
            "Label Encoding\n",
            "   Age  Gender  Glucose  BloodPressure  SkinThickness  Insulin  BMI  \\\n",
            "0   30       1       86             22             28        0  123   \n",
            "1   10       1       23             19             22        0   62   \n",
            "2   11       1      121             17              0        0   30   \n",
            "3    0       1       27             19             16       62   77   \n",
            "4   12       1       75              4             28      102  209   \n",
            "\n",
            "   DiabetesPedigreeFunction  Outcome  \n",
            "0                       350        1  \n",
            "1                       196        0  \n",
            "2                       368        1  \n",
            "3                        53        0  \n",
            "4                       514        1  \n"
          ]
        }
      ]
    }
  ]
}